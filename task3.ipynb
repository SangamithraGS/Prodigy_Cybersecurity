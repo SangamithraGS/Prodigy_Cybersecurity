{
 "cells": [
  {
   "cell_type": "code",
   "execution_count": 2,
   "metadata": {},
   "outputs": [
    {
     "name": "stdout",
     "output_type": "stream",
     "text": [
      "Welcome to the Password Complexity Checker!\n",
      "\n",
      "Password Strength: Weak\n",
      "Suggestions to improve your password:\n",
      "- Password should be at least 8 characters long.\n",
      "- Include at least one uppercase letter.\n"
     ]
    }
   ],
   "source": [
    "import re\n",
    "\n",
    "def password_strength_checker(password):\n",
    "    # Criteria definitions\n",
    "    length_criteria = len(password) >= 8\n",
    "    uppercase_criteria = bool(re.search(r'[A-Z]', password))\n",
    "    lowercase_criteria = bool(re.search(r'[a-z]', password))\n",
    "    digit_criteria = bool(re.search(r'\\d', password))\n",
    "    special_char_criteria = bool(re.search(r'[@$!%*?&#]', password))\n",
    "\n",
    "    # Count the number of criteria met\n",
    "    criteria_met = sum([\n",
    "        length_criteria,\n",
    "        uppercase_criteria,\n",
    "        lowercase_criteria,\n",
    "        digit_criteria,\n",
    "        special_char_criteria\n",
    "    ])\n",
    "\n",
    "    # Determine strength based on criteria met\n",
    "    if criteria_met == 5:\n",
    "        strength = \"Strong\"\n",
    "    elif criteria_met == 4:\n",
    "        strength = \"Moderate\"\n",
    "    elif criteria_met == 3:\n",
    "        strength = \"Weak\"\n",
    "    else:\n",
    "        strength = \"Very Weak\"\n",
    "\n",
    "    feedback = []\n",
    "    if not length_criteria:\n",
    "        feedback.append(\"Password should be at least 8 characters long.\")\n",
    "    if not uppercase_criteria:\n",
    "        feedback.append(\"Include at least one uppercase letter.\")\n",
    "    if not lowercase_criteria:\n",
    "        feedback.append(\"Include at least one lowercase letter.\")\n",
    "    if not digit_criteria:\n",
    "        feedback.append(\"Include at least one number.\")\n",
    "    if not special_char_criteria:\n",
    "        feedback.append(\"Include at least one special character (e.g., @, $, !, %, *, ?, &, #).\")\n",
    "\n",
    "    return strength, feedback\n",
    "\n",
    "def main():\n",
    "    print(\"Welcome to the Password Complexity Checker!\")\n",
    "    password = input(\"Enter your password to check its strength: \")\n",
    "\n",
    "    strength, feedback = password_strength_checker(password)\n",
    "\n",
    "    print(f\"\\nPassword Strength: {strength}\")\n",
    "    if feedback:\n",
    "        print(\"Suggestions to improve your password:\")\n",
    "        for item in feedback:\n",
    "            print(f\"- {item}\")\n",
    "\n",
    "if __name__ == \"__main__\":\n",
    "    main()\n"
   ]
  }
 ],
 "metadata": {
  "kernelspec": {
   "display_name": "Python 3",
   "language": "python",
   "name": "python3"
  },
  "language_info": {
   "codemirror_mode": {
    "name": "ipython",
    "version": 3
   },
   "file_extension": ".py",
   "mimetype": "text/x-python",
   "name": "python",
   "nbconvert_exporter": "python",
   "pygments_lexer": "ipython3",
   "version": "3.11.8"
  }
 },
 "nbformat": 4,
 "nbformat_minor": 2
}
