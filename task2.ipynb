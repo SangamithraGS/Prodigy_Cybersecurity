{
 "cells": [
  {
   "cell_type": "code",
   "execution_count": 1,
   "metadata": {},
   "outputs": [
    {
     "name": "stdout",
     "output_type": "stream",
     "text": [
      "Requirement already satisfied: pillow in c:\\users\\adimin\\appdata\\local\\programs\\python\\python311\\lib\\site-packages (10.4.0)\n",
      "Note: you may need to restart the kernel to use updated packages.\n"
     ]
    },
    {
     "name": "stderr",
     "output_type": "stream",
     "text": [
      "\n",
      "[notice] A new release of pip is available: 24.0 -> 24.2\n",
      "[notice] To update, run: python.exe -m pip install --upgrade pip\n"
     ]
    }
   ],
   "source": [
    "pip install pillow"
   ]
  },
  {
   "cell_type": "code",
   "execution_count": 1,
   "metadata": {},
   "outputs": [],
   "source": [
    "from PIL import Image\n",
    "import numpy as np\n",
    "import os\n",
    "\n",
    "def encrypt_image(input_path, output_path, key):\n",
    "    \n",
    "    img = Image.open(input_path)\n",
    "    img_array = np.array(img)\n",
    "    encrypted_array = (img_array + key) % 256  \n",
    "\n",
    " \n",
    "    encrypted_img = Image.fromarray(encrypted_array.astype('uint8'))\n",
    "    encrypted_img.save(output_path)\n",
    "    print(f\"Encrypted image saved to {output_path}\")\n",
    "\n",
    "def decrypt_image(input_path, output_path, key):\n",
    "\n",
    "    img = Image.open(input_path)\n",
    "    img_array = np.array(img)\n",
    "\n",
    "    decrypted_array = (img_array - key) % 256\n",
    "    \n",
    "    decrypted_img = Image.fromarray(decrypted_array.astype('uint8'))\n",
    "    decrypted_img.save(output_path)\n",
    "    print(f\"Decrypted image saved to {output_path}\")\n"
   ]
  },
  {
   "cell_type": "code",
   "execution_count": 3,
   "metadata": {},
   "outputs": [
    {
     "name": "stdout",
     "output_type": "stream",
     "text": [
      "Welcome to the Image Encryption/Decryption Tool!\n",
      "Decrypted image saved to deco.jpg\n"
     ]
    }
   ],
   "source": [
    "def main():\n",
    "    print(\"Welcome to the Image Encryption/Decryption Tool!\")\n",
    "    choice = input(\"Do you want to (E)ncrypt or (D)ecrypt an image? \").strip().upper()\n",
    "\n",
    "    if choice not in ['E', 'D']:\n",
    "        print(\"Invalid choice! Please enter 'E' for encryption or 'D' for decryption.\")\n",
    "        return\n",
    "\n",
    "    input_path = input(\"Enter the path to the image: \").strip()\n",
    "    if not os.path.isfile(input_path):\n",
    "        print(\"The specified image file does not exist.\")\n",
    "        return\n",
    "\n",
    "    output_path = input(\"Enter the path where the output image will be saved: \").strip()\n",
    "    key_input = input(\"Enter an integer key for encryption/decryption: \").strip()\n",
    "\n",
    "    if not key_input.isdigit():\n",
    "        print(\"Invalid key! Please enter a valid integer.\")\n",
    "        return\n",
    "\n",
    "    key = int(key_input)\n",
    "\n",
    "    if choice == 'E':\n",
    "        encrypt_image(input_path, output_path, key)\n",
    "    else:\n",
    "        decrypt_image(input_path, output_path, key)\n",
    "\n",
    "if __name__ == \"__main__\":\n",
    "    main()"
   ]
  }
 ],
 "metadata": {
  "kernelspec": {
   "display_name": "Python 3",
   "language": "python",
   "name": "python3"
  },
  "language_info": {
   "codemirror_mode": {
    "name": "ipython",
    "version": 3
   },
   "file_extension": ".py",
   "mimetype": "text/x-python",
   "name": "python",
   "nbconvert_exporter": "python",
   "pygments_lexer": "ipython3",
   "version": "3.11.8"
  }
 },
 "nbformat": 4,
 "nbformat_minor": 2
}
